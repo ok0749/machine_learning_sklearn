{
 "cells": [
  {
   "cell_type": "code",
   "execution_count": 38,
   "id": "supported-shuttle",
   "metadata": {},
   "outputs": [],
   "source": [
    "import numpy as np\n",
    "import pandas as pd\n",
    "import matplotlib.pyplot as plt\n",
    "import seaborn as sns\n",
    "sns.set()\n",
    "from warnings import filterwarnings\n",
    "filterwarnings('ignore')\n",
    "\n",
    "from sklearn.model_selection import train_test_split, GridSearchCV\n",
    "from sklearn.neural_network import MLPClassifier\n",
    "from sklearn.datasets import load_digits\n",
    "from sklearn.pipeline import Pipeline\n",
    "from sklearn.preprocessing import StandardScaler\n",
    "from sklearn.metrics import classification_report\n",
    "from sklearn.linear_model import LogisticRegression"
   ]
  },
  {
   "cell_type": "markdown",
   "id": "requested-drink",
   "metadata": {},
   "source": [
    "### 인공신경망(Artificial Neural Networks, ANN)\n",
    "- 사람의 뇌 구조를 복제해 입력과 출력 신호 간의 관계를 모델링하는 기법으로 사람이 감각을 통해 입력된 자극에 관해 반응하는 원리를 따라한 것이다.\n",
    "- 작동 원리\n",
    "    - 각 뉴런은 입력 부분을 갖고 각 입력에는 가중값이 주어진다. 뉴련은 이 가중 입력을 함수로 계산한다. \n",
    "    - 선형 뉴런은 가중 입력의 선형 조합을 입력으로 받아 그 총합에 활성 함수(activation function)(시그모이드, 하이퍼볼릭 탄젠트, 렐루 등)를 적용한다\n",
    "    - 망은 입력의 가중 합을 로지스틱 함수에 전달한다(시그모이드 함수의 경우). 로지스틱 함수는 설정된 임계값에 따라 0이나 1을 반환한다."
   ]
  },
  {
   "cell_type": "markdown",
   "id": "efficient-provision",
   "metadata": {},
   "source": [
    "#### 활성 함수(activation function)\n",
    "인공 뉴런이 정보를 가공하고 망을 통해 전달하는 도구다. 단일 숫자를 입력으로 받아 고정된 수학적 매핑을 수행한다.\n",
    "- 시그모이드 함수(sigmoid)\n",
    "    - 실수를 0과 1사이 값으로 변환한다. 미분 계산이 쉽고 해석이 용이해 자주 사용된다.\n",
    "- 하이퍼볼릭 탄젠트 함수(Tanh)\n",
    "    - 실수를 -1과 1 사이의 값으로 만든다. 실제 활용에 있어서는 tanh의 비선형성이 시그모이드보다 항상 더 선호된다.\n",
    "- 렐루(Rectified Linear Unit, ReLu)\n",
    "    - 입력이 0 이하면 0이고, 임계값인 0을 넘기면 바로 활성화된다. f(x) = max(0, x)\n",
    "- 선형 함수\n",
    "    - 선형 회귀 문제에서 사용된다. 미분값은 항상 1이 된다. f(x) = x\n",
    "    \n",
    "ReLU는 시그모이드나 Tanh에 비해 수렴 성질이 뛰어나기 때문에 두 함수 대신 많이 이용된다. 선형 활성 함수는 선형 회귀에 사용되는 반면, 다른 모든 활성 함수는 분류 문제에 사용된다."
   ]
  },
  {
   "cell_type": "markdown",
   "id": "applicable-fraud",
   "metadata": {},
   "source": [
    "#### 순전파(Forward propagation와 역전파(backpropagation)\n",
    "입력층의 뉴런 개수는 독립 변수 x에 달려 있고, 출력층의 뉴런 개수는 모델이 예측하려는 부류의 수에 달려 있다.\n",
    "\n",
    "가중값과 편향값은 난수를 사용해 초기화한다. 이후에 순방향과 역방향 경로 모두에서 오차를 최소화하기 위한 값의 갱신이 일어난다.\n",
    "- 순전파가 일어나는 동안 특징값이 망에 입력되고 그 다음 층에 전달돼 출력을 활성화한다.\n",
    "- 전체 값이 임계값을 넘어서면 그 다음 층으로 전파되고, 그렇지 못하면 그 다음 층으로의 신호값은 0이 된다. 경우에 따라 가중 조합 신호가 너무 낮으면 편형 가중값을 이용해 신호를 증폭해 다음 단계로 전파될 수 있도록 한다.\n",
    "- 비슷한 방법으로 은닉층들을 지나고 마지막 층(출력층)에서도 비슷한 방법으로 가중 출력과 편향 가중값을 조합해 출력을 계산한다.\n",
    "- 모델의 출력값을 얻고 나면 실제값과 비교한 후, 망을 통해 오차를 역전파하면서 전체 신경망의 가중값들을 수정한다.\n",
    "- 값이 수렴하거나 설정한 반복 횟수에 도달될 때까지 가중값을 반복적으로 갱신한다."
   ]
  },
  {
   "cell_type": "markdown",
   "id": "graduate-imperial",
   "metadata": {},
   "source": [
    "#### 신경망의 최적화\n",
    "신경망의 가중값을 최적화하는 데 사용되는 기술\n",
    "\n",
    "<strong>실제 적용에서는 아담을 디폴트로 선택하는 것이 좋다.</strong> 전체 일괄 처리 형태로 갱신할 수 있는 여유가 없으면 L-BFGS를 사용하는 것도 좋다\n",
    "- 확률 경사 하강법(Stochastic Gradient Descent, SGD)\n",
    "- 모멘텀(Momentum)\n",
    "    - 공을 언덕 아래로 굴리는 것과 같다.\n",
    "    - 경사의 방향이 같을 때는 점점 증가하다가 경사의 방향이 바뀌는 차원에 관해서는 갱신을 줄인다. 결과적으로 수렴을 빨라지고 진동은 줄어든다.\n",
    "- NAG(Nesterov accelerated gradient)\n",
    "    - 먼저 이전 누적 경사 방향으로 큰 점프를 한 후, 수정한다. 이러한 선제적 갱신은 볼이 너무 빨리 구르는 것을 방지하고 반응성과 성능을 향상시킨다.\n",
    "- 에이다 그래드(Adagrad)\n",
    "    - 경사법 기반의 최적화 알고리즘으로 매개변수별로 차등화된 학습률을 적용한다.\n",
    "    - 빈번한 매개변수는 작은 갱신값을 적용하고, 빈도가 낮은 매개변수는 상대적으로 큰 갱신값을 적용한다.\n",
    "    - SGD의 안정성을 크게 향상시키고 대형 신경망의 훈련에 이용된다.\n",
    "    - 장점 중 하나는 학습률을 수작업으로 갱신할 필요가 없다는 것이다. 대부분의 구현에서 디폴트 값인 0.01을 그대로 둔다.\n",
    "    - 단점은 모든 합산이 양수이므로 훈련 기간 동안의 누적 합산은 커져만 간다는 것이다. 이 점은 결국 학습률을 계속 축소시켜 극히 작은 값이 되는 순간, 더 이상 알고리즘이 새로운 지식을 얻지 못한다 \n",
    "- 에이다 델타(Adadelta)\n",
    "    - 에이다 그래드의 확장으로 과거의 제곱된 경사도를 모두 축적하는 대신, 과거 경사도의 누적을 고정된 창으로 제한한 범위 w이내로 국한시킨다.\n",
    "- RMS프랍(RMSprop)\n",
    "- 아담(Adaptive moment estimation, Adam)\n",
    "    - 각 매개변수의 적응 학습률을 계산하는 또 다른 방법 \n",
    "    - <strong>판단이 잘 서지 않을 경우에는 그냥 아담을 사용한다</strong>\n",
    "- L-BFGS(Limited memory Broyden-Fetcher-Goldfarb-Shanno)\n",
    "    - 제한된 메모리를 사용하는 BFGS로, BFGS 알고리즘을 근사하는 모의 뉴턴 기법의 일종이다. 컴퓨터 메모리의 일부분만을 사용한다."
   ]
  },
  {
   "cell_type": "markdown",
   "id": "super-tradition",
   "metadata": {},
   "source": [
    "#### 신경망에서의 드롭아웃(Dropout)\n",
    "- 데이터의 과적합을 피하기 위한 신경망의 정규화 과정이다. 통상 초기 계층에서는 0.2가 드롭아웃되고, 중간 계층에서는 0.5가 된다.\n",
    "- 직관적 예시\n",
    "    - 사내 일부 팀원은 대 고객 상담이 원활하지만 기술에 관한 깊이가 부족하다.\n",
    "    - 반면 일부 팀원은 기술에 관한 해박한 지식을 갖고 있지만 대 고객 상담 능력은 부족하다.\n",
    "    - 일부 팀원이 휴가를 가서(Dropout) 다른 팀원이 일을 대신해야 하는 경우 대 고객 상담만 뛰어났던 일부 팀원은 기술에 관한 세부를 더 배우는 계기가 될 수 있고, 기술에만 뛰어났던 일부 직원은 대 고객 상담 기술이 향상되는 계기가 될 수 있다.\n",
    "    - 팀원 전체가 개별적으로 모든 형태의 업무를 안정적으로 하게 되어 회사에 큰 도움이 될 것이다"
   ]
  },
  {
   "cell_type": "markdown",
   "id": "interstate-reminder",
   "metadata": {},
   "source": [
    "### 기존의 모델로는 XOR를 구분할 수 없다 -> 다층 퍼셉트론으로 해결"
   ]
  },
  {
   "cell_type": "code",
   "execution_count": 39,
   "id": "recreational-blank",
   "metadata": {},
   "outputs": [],
   "source": [
    "# XOR 데이터\n",
    "x_data = np.array([[0, 0], [0, 1], [1, 0], [1, 1]])\n",
    "y_data = np.ravel([[0], [1], [1], [0]])"
   ]
  },
  {
   "cell_type": "code",
   "execution_count": 40,
   "id": "activated-specification",
   "metadata": {},
   "outputs": [
    {
     "data": {
      "text/plain": [
       "(array([0, 0, 1, 1]), array([0, 1, 0, 1]))"
      ]
     },
     "execution_count": 40,
     "metadata": {},
     "output_type": "execute_result"
    }
   ],
   "source": [
    "x_data[:, 0], x_data[:, 1]"
   ]
  },
  {
   "cell_type": "code",
   "execution_count": 41,
   "id": "legal-starter",
   "metadata": {},
   "outputs": [
    {
     "data": {
      "text/plain": [
       "array([0, 1, 1, 0])"
      ]
     },
     "execution_count": 41,
     "metadata": {},
     "output_type": "execute_result"
    }
   ],
   "source": [
    "y_data"
   ]
  },
  {
   "cell_type": "code",
   "execution_count": 42,
   "id": "acting-elizabeth",
   "metadata": {},
   "outputs": [
    {
     "data": {
      "image/png": "[encoded data removed]",
      "text/plain": [
       "<Figure size 432x288 with 1 Axes>"
      ]
     },
     "metadata": {},
     "output_type": "display_data"
    }
   ],
   "source": [
    "# 데이터 시각화\n",
    "plt.title('XOR')\n",
    "plt.scatter(x_data[:, 0], x_data[:, 1], c=~y_data, edgecolors='k', s=100)\n",
    "plt.xlabel('x0')\n",
    "plt.ylabel('x1')\n",
    "plt.show()"
   ]
  },
  {
   "cell_type": "markdown",
   "id": "ruled-involvement",
   "metadata": {},
   "source": [
    "색칠된 부분이 1 -> 두 입력 데이터 값이 다를 때 1\n",
    "\n",
    "하나의 선을 그어 흰색과 검은색 부분을 구분할 수 없다"
   ]
  },
  {
   "cell_type": "markdown",
   "id": "leading-contractor",
   "metadata": {},
   "source": [
    "### Logistic Regression "
   ]
  },
  {
   "cell_type": "code",
   "execution_count": 43,
   "id": "centered-recipe",
   "metadata": {},
   "outputs": [
    {
     "data": {
      "text/plain": [
       "LogisticRegression()"
      ]
     },
     "execution_count": 43,
     "metadata": {},
     "output_type": "execute_result"
    }
   ],
   "source": [
    "# 학습\n",
    "model_logi = LogisticRegression()\n",
    "model_logi.fit(x_data, y_data)"
   ]
  },
  {
   "cell_type": "code",
   "execution_count": 44,
   "id": "chicken-arbitration",
   "metadata": {},
   "outputs": [
    {
     "data": {
      "text/plain": [
       "array([0, 0, 0, 0])"
      ]
     },
     "execution_count": 44,
     "metadata": {},
     "output_type": "execute_result"
    }
   ],
   "source": [
    "# 예측\n",
    "y_pred = model_logi.predict(x_data)\n",
    "y_pred"
   ]
  },
  {
   "cell_type": "markdown",
   "id": "mechanical-george",
   "metadata": {},
   "source": [
    "모두 0으로 예측 -> 오답"
   ]
  },
  {
   "cell_type": "code",
   "execution_count": 45,
   "id": "abandoned-preliminary",
   "metadata": {},
   "outputs": [
    {
     "data": {
      "image/png": "[encoded data removed]",
      "text/plain": [
       "<Figure size 432x288 with 1 Axes>"
      ]
     },
     "metadata": {},
     "output_type": "display_data"
    }
   ],
   "source": [
    "# 시각화\n",
    "plt.title('XOR')\n",
    "plt.scatter(x_data[:, 0], x_data[:, 1], c=~y_data, edgecolors='k', s=100, label='origin')\n",
    "plt.xlabel('x0')\n",
    "plt.ylabel('x1')\n",
    "plt.plot(y_pred, c='r', label='prediction')\n",
    "plt.xlim(-0.1, 1.1)\n",
    "plt.legend()\n",
    "plt.show()"
   ]
  },
  {
   "cell_type": "markdown",
   "id": "controlling-mixer",
   "metadata": {},
   "source": [
    "Logistic Regression 모델로 예측 불가"
   ]
  },
  {
   "cell_type": "markdown",
   "id": "growing-radar",
   "metadata": {},
   "source": [
    "### MLP Classifier\n",
    "- 은닉층을 만들어 좌표 평면을 왜곡시킨 후 선을 그어 구분한다"
   ]
  },
  {
   "cell_type": "code",
   "execution_count": 46,
   "id": "complex-toolbox",
   "metadata": {},
   "outputs": [
    {
     "data": {
      "text/plain": [
       "MLPClassifier()"
      ]
     },
     "execution_count": 46,
     "metadata": {},
     "output_type": "execute_result"
    }
   ],
   "source": [
    "# 학습\n",
    "model_NN = MLPClassifier() # default hidden_layer_sizes=(100,)\n",
    "model_NN.fit(x_data, y_data)"
   ]
  },
  {
   "cell_type": "code",
   "execution_count": 47,
   "id": "smart-moisture",
   "metadata": {},
   "outputs": [
    {
     "data": {
      "text/plain": [
       "array([0, 1, 1, 0])"
      ]
     },
     "execution_count": 47,
     "metadata": {},
     "output_type": "execute_result"
    }
   ],
   "source": [
    "# 예측\n",
    "y_pred = model_NN.predict(x_data)\n",
    "y_pred"
   ]
  },
  {
   "cell_type": "markdown",
   "id": "mediterranean-calgary",
   "metadata": {},
   "source": [
    "정확하게 예측"
   ]
  },
  {
   "cell_type": "markdown",
   "id": "former-denial",
   "metadata": {},
   "source": [
    "### MLPClassifier 필기체 숫자 인식"
   ]
  },
  {
   "cell_type": "code",
   "execution_count": 2,
   "id": "recognized-former",
   "metadata": {},
   "outputs": [],
   "source": [
    "# 필기체 숫자 데이터 불러오기\n",
    "digits = load_digits()"
   ]
  },
  {
   "cell_type": "code",
   "execution_count": 3,
   "id": "generic-campaign",
   "metadata": {},
   "outputs": [
    {
     "name": "stdout",
     "output_type": "stream",
     "text": [
      ".. _digits_dataset:\n",
      "\n",
      "Optical recognition of handwritten digits dataset\n",
      "--------------------------------------------------\n",
      "\n",
      "**Data Set Characteristics:**\n",
      "\n",
      "    :Number of Instances: 1797\n",
      "    :Number of Attributes: 64\n",
      "    :Attribute Information: 8x8 image of integer pixels in the range 0..16.\n",
      "    :Missing Attribute Values: None\n",
      "    :Creator: E. Alpaydin (alpaydin '@' boun.edu.tr)\n",
      "    :Date: July; 1998\n",
      "\n",
      "This is a copy of the test set of the UCI ML hand-written digits datasets\n",
      "https://archive.ics.uci.edu/ml/datasets/Optical+Recognition+of+Handwritten+Digits\n",
      "\n",
      "The data set contains images of hand-written digits: 10 classes where\n",
      "each class refers to a digit.\n",
      "\n",
      "Preprocessing programs made available by NIST were used to extract\n",
      "normalized bitmaps of handwritten digits from a preprinted form. From a\n",
      "total of 43 people, 30 contributed to the training set and different 13\n",
      "to the test set. 32x32 bitmaps are divided into nonoverlapping blocks of\n",
      "4x4 and the number of on pixels are counted in each block. This generates\n",
      "an input matrix of 8x8 where each element is an integer in the range\n",
      "0..16. This reduces dimensionality and gives invariance to small\n",
      "distortions.\n",
      "\n",
      "For info on NIST preprocessing routines, see M. D. Garris, J. L. Blue, G.\n",
      "T. Candela, D. L. Dimmick, J. Geist, P. J. Grother, S. A. Janet, and C.\n",
      "L. Wilson, NIST Form-Based Handprint Recognition System, NISTIR 5469,\n",
      "1994.\n",
      "\n",
      ".. topic:: References\n",
      "\n",
      "  - C. Kaynak (1995) Methods of Combining Multiple Classifiers and Their\n",
      "    Applications to Handwritten Digit Recognition, MSc Thesis, Institute of\n",
      "    Graduate Studies in Science and Engineering, Bogazici University.\n",
      "  - E. Alpaydin, C. Kaynak (1998) Cascading Classifiers, Kybernetika.\n",
      "  - Ken Tang and Ponnuthurai N. Suganthan and Xi Yao and A. Kai Qin.\n",
      "    Linear dimensionalityreduction using relevance weighted LDA. School of\n",
      "    Electrical and Electronic Engineering Nanyang Technological University.\n",
      "    2005.\n",
      "  - Claudio Gentile. A New Approximate Maximal Margin Classification\n",
      "    Algorithm. NIPS. 2000.\n",
      "\n"
     ]
    }
   ],
   "source": [
    "print(digits.DESCR)"
   ]
  },
  {
   "cell_type": "code",
   "execution_count": 4,
   "id": "powerful-circumstances",
   "metadata": {},
   "outputs": [
    {
     "data": {
      "text/plain": [
       "((1797, 64), (1797,))"
      ]
     },
     "execution_count": 4,
     "metadata": {},
     "output_type": "execute_result"
    }
   ],
   "source": [
    "# 입출력 데이터 생성\n",
    "x_data = digits['data']\n",
    "y_data = digits['target']\n",
    "\n",
    "x_data.shape, y_data.shape"
   ]
  },
  {
   "cell_type": "code",
   "execution_count": 17,
   "id": "abroad-assurance",
   "metadata": {},
   "outputs": [
    {
     "data": {
      "image/png": "[encoded data removed]",
      "text/plain": [
       "<Figure size 432x288 with 1 Axes>"
      ]
     },
     "metadata": {},
     "output_type": "display_data"
    }
   ],
   "source": [
    "# 이미지 확인\n",
    "plt.imshow(x_data[0].reshape(-1, 8))\n",
    "plt.show()"
   ]
  },
  {
   "cell_type": "code",
   "execution_count": 19,
   "id": "seeing-munich",
   "metadata": {},
   "outputs": [
    {
     "data": {
      "text/plain": [
       "((1437, 64), (360, 64), (1437,), (360,))"
      ]
     },
     "execution_count": 19,
     "metadata": {},
     "output_type": "execute_result"
    }
   ],
   "source": [
    "# 트레인 테스트셋 구성\n",
    "x_train, x_test, y_train, y_test = train_test_split(x_data, y_data, test_size=0.2, stratify=y_data, random_state=0)\n",
    "\n",
    "x_train.shape, x_test.shape, y_train.shape, y_test.shape"
   ]
  },
  {
   "cell_type": "code",
   "execution_count": 23,
   "id": "synthetic-discovery",
   "metadata": {},
   "outputs": [],
   "source": [
    "# 모델 생성 및 학습\n",
    "pipeline = Pipeline([('std', StandardScaler()), \n",
    "                     ('mlp', MLPClassifier(hidden_layer_sizes=(100, 50,), activation='relu', solver='adam', max_iter=300))])\n",
    "param_grid = {\n",
    "    'mlp__alpha': [0.001, 0.01, 0.1, 0.3, 0.5, 1.0],\n",
    "    'mlp__max_iter': [100, 200, 300]\n",
    "}\n",
    "grid_nn = GridSearchCV(pipeline, param_grid, verbose=1, scoring='accuracy')"
   ]
  },
  {
   "cell_type": "code",
   "execution_count": 24,
   "id": "lucky-reverse",
   "metadata": {},
   "outputs": [
    {
     "name": "stdout",
     "output_type": "stream",
     "text": [
      "Fitting 5 folds for each of 18 candidates, totalling 90 fits\n"
     ]
    },
    {
     "name": "stderr",
     "output_type": "stream",
     "text": [
      "/Users/dongja/opt/anaconda3/lib/python3.7/site-packages/sklearn/neural_network/_multilayer_perceptron.py:617: ConvergenceWarning: Stochastic Optimizer: Maximum iterations (100) reached and the optimization hasn't converged yet.\n",
      "  % self.max_iter, ConvergenceWarning)\n",
      "/Users/dongja/opt/anaconda3/lib/python3.7/site-packages/sklearn/neural_network/_multilayer_perceptron.py:617: ConvergenceWarning: Stochastic Optimizer: Maximum iterations (100) reached and the optimization hasn't converged yet.\n",
      "  % self.max_iter, ConvergenceWarning)\n",
      "/Users/dongja/opt/anaconda3/lib/python3.7/site-packages/sklearn/neural_network/_multilayer_perceptron.py:617: ConvergenceWarning: Stochastic Optimizer: Maximum iterations (100) reached and the optimization hasn't converged yet.\n",
      "  % self.max_iter, ConvergenceWarning)\n",
      "/Users/dongja/opt/anaconda3/lib/python3.7/site-packages/sklearn/neural_network/_multilayer_perceptron.py:617: ConvergenceWarning: Stochastic Optimizer: Maximum iterations (100) reached and the optimization hasn't converged yet.\n",
      "  % self.max_iter, ConvergenceWarning)\n",
      "/Users/dongja/opt/anaconda3/lib/python3.7/site-packages/sklearn/neural_network/_multilayer_perceptron.py:617: ConvergenceWarning: Stochastic Optimizer: Maximum iterations (100) reached and the optimization hasn't converged yet.\n",
      "  % self.max_iter, ConvergenceWarning)\n",
      "/Users/dongja/opt/anaconda3/lib/python3.7/site-packages/sklearn/neural_network/_multilayer_perceptron.py:617: ConvergenceWarning: Stochastic Optimizer: Maximum iterations (100) reached and the optimization hasn't converged yet.\n",
      "  % self.max_iter, ConvergenceWarning)\n",
      "/Users/dongja/opt/anaconda3/lib/python3.7/site-packages/sklearn/neural_network/_multilayer_perceptron.py:617: ConvergenceWarning: Stochastic Optimizer: Maximum iterations (100) reached and the optimization hasn't converged yet.\n",
      "  % self.max_iter, ConvergenceWarning)\n",
      "/Users/dongja/opt/anaconda3/lib/python3.7/site-packages/sklearn/neural_network/_multilayer_perceptron.py:617: ConvergenceWarning: Stochastic Optimizer: Maximum iterations (200) reached and the optimization hasn't converged yet.\n",
      "  % self.max_iter, ConvergenceWarning)\n",
      "/Users/dongja/opt/anaconda3/lib/python3.7/site-packages/sklearn/neural_network/_multilayer_perceptron.py:617: ConvergenceWarning: Stochastic Optimizer: Maximum iterations (200) reached and the optimization hasn't converged yet.\n",
      "  % self.max_iter, ConvergenceWarning)\n",
      "/Users/dongja/opt/anaconda3/lib/python3.7/site-packages/sklearn/neural_network/_multilayer_perceptron.py:617: ConvergenceWarning: Stochastic Optimizer: Maximum iterations (200) reached and the optimization hasn't converged yet.\n",
      "  % self.max_iter, ConvergenceWarning)\n",
      "/Users/dongja/opt/anaconda3/lib/python3.7/site-packages/sklearn/neural_network/_multilayer_perceptron.py:617: ConvergenceWarning: Stochastic Optimizer: Maximum iterations (200) reached and the optimization hasn't converged yet.\n",
      "  % self.max_iter, ConvergenceWarning)\n",
      "/Users/dongja/opt/anaconda3/lib/python3.7/site-packages/sklearn/neural_network/_multilayer_perceptron.py:617: ConvergenceWarning: Stochastic Optimizer: Maximum iterations (200) reached and the optimization hasn't converged yet.\n",
      "  % self.max_iter, ConvergenceWarning)\n",
      "/Users/dongja/opt/anaconda3/lib/python3.7/site-packages/sklearn/neural_network/_multilayer_perceptron.py:617: ConvergenceWarning: Stochastic Optimizer: Maximum iterations (100) reached and the optimization hasn't converged yet.\n",
      "  % self.max_iter, ConvergenceWarning)\n",
      "/Users/dongja/opt/anaconda3/lib/python3.7/site-packages/sklearn/neural_network/_multilayer_perceptron.py:617: ConvergenceWarning: Stochastic Optimizer: Maximum iterations (100) reached and the optimization hasn't converged yet.\n",
      "  % self.max_iter, ConvergenceWarning)\n",
      "/Users/dongja/opt/anaconda3/lib/python3.7/site-packages/sklearn/neural_network/_multilayer_perceptron.py:617: ConvergenceWarning: Stochastic Optimizer: Maximum iterations (100) reached and the optimization hasn't converged yet.\n",
      "  % self.max_iter, ConvergenceWarning)\n",
      "/Users/dongja/opt/anaconda3/lib/python3.7/site-packages/sklearn/neural_network/_multilayer_perceptron.py:617: ConvergenceWarning: Stochastic Optimizer: Maximum iterations (100) reached and the optimization hasn't converged yet.\n",
      "  % self.max_iter, ConvergenceWarning)\n",
      "/Users/dongja/opt/anaconda3/lib/python3.7/site-packages/sklearn/neural_network/_multilayer_perceptron.py:617: ConvergenceWarning: Stochastic Optimizer: Maximum iterations (100) reached and the optimization hasn't converged yet.\n",
      "  % self.max_iter, ConvergenceWarning)\n",
      "/Users/dongja/opt/anaconda3/lib/python3.7/site-packages/sklearn/neural_network/_multilayer_perceptron.py:617: ConvergenceWarning: Stochastic Optimizer: Maximum iterations (200) reached and the optimization hasn't converged yet.\n",
      "  % self.max_iter, ConvergenceWarning)\n",
      "/Users/dongja/opt/anaconda3/lib/python3.7/site-packages/sklearn/neural_network/_multilayer_perceptron.py:617: ConvergenceWarning: Stochastic Optimizer: Maximum iterations (200) reached and the optimization hasn't converged yet.\n",
      "  % self.max_iter, ConvergenceWarning)\n",
      "/Users/dongja/opt/anaconda3/lib/python3.7/site-packages/sklearn/neural_network/_multilayer_perceptron.py:617: ConvergenceWarning: Stochastic Optimizer: Maximum iterations (200) reached and the optimization hasn't converged yet.\n",
      "  % self.max_iter, ConvergenceWarning)\n",
      "/Users/dongja/opt/anaconda3/lib/python3.7/site-packages/sklearn/neural_network/_multilayer_perceptron.py:617: ConvergenceWarning: Stochastic Optimizer: Maximum iterations (200) reached and the optimization hasn't converged yet.\n",
      "  % self.max_iter, ConvergenceWarning)\n",
      "/Users/dongja/opt/anaconda3/lib/python3.7/site-packages/sklearn/neural_network/_multilayer_perceptron.py:617: ConvergenceWarning: Stochastic Optimizer: Maximum iterations (200) reached and the optimization hasn't converged yet.\n",
      "  % self.max_iter, ConvergenceWarning)\n",
      "/Users/dongja/opt/anaconda3/lib/python3.7/site-packages/sklearn/neural_network/_multilayer_perceptron.py:617: ConvergenceWarning: Stochastic Optimizer: Maximum iterations (300) reached and the optimization hasn't converged yet.\n",
      "  % self.max_iter, ConvergenceWarning)\n",
      "/Users/dongja/opt/anaconda3/lib/python3.7/site-packages/sklearn/neural_network/_multilayer_perceptron.py:617: ConvergenceWarning: Stochastic Optimizer: Maximum iterations (300) reached and the optimization hasn't converged yet.\n",
      "  % self.max_iter, ConvergenceWarning)\n",
      "/Users/dongja/opt/anaconda3/lib/python3.7/site-packages/sklearn/neural_network/_multilayer_perceptron.py:617: ConvergenceWarning: Stochastic Optimizer: Maximum iterations (100) reached and the optimization hasn't converged yet.\n",
      "  % self.max_iter, ConvergenceWarning)\n",
      "/Users/dongja/opt/anaconda3/lib/python3.7/site-packages/sklearn/neural_network/_multilayer_perceptron.py:617: ConvergenceWarning: Stochastic Optimizer: Maximum iterations (100) reached and the optimization hasn't converged yet.\n",
      "  % self.max_iter, ConvergenceWarning)\n",
      "/Users/dongja/opt/anaconda3/lib/python3.7/site-packages/sklearn/neural_network/_multilayer_perceptron.py:617: ConvergenceWarning: Stochastic Optimizer: Maximum iterations (100) reached and the optimization hasn't converged yet.\n",
      "  % self.max_iter, ConvergenceWarning)\n",
      "/Users/dongja/opt/anaconda3/lib/python3.7/site-packages/sklearn/neural_network/_multilayer_perceptron.py:617: ConvergenceWarning: Stochastic Optimizer: Maximum iterations (100) reached and the optimization hasn't converged yet.\n",
      "  % self.max_iter, ConvergenceWarning)\n",
      "/Users/dongja/opt/anaconda3/lib/python3.7/site-packages/sklearn/neural_network/_multilayer_perceptron.py:617: ConvergenceWarning: Stochastic Optimizer: Maximum iterations (100) reached and the optimization hasn't converged yet.\n",
      "  % self.max_iter, ConvergenceWarning)\n",
      "/Users/dongja/opt/anaconda3/lib/python3.7/site-packages/sklearn/neural_network/_multilayer_perceptron.py:617: ConvergenceWarning: Stochastic Optimizer: Maximum iterations (200) reached and the optimization hasn't converged yet.\n",
      "  % self.max_iter, ConvergenceWarning)\n",
      "/Users/dongja/opt/anaconda3/lib/python3.7/site-packages/sklearn/neural_network/_multilayer_perceptron.py:617: ConvergenceWarning: Stochastic Optimizer: Maximum iterations (200) reached and the optimization hasn't converged yet.\n",
      "  % self.max_iter, ConvergenceWarning)\n"
     ]
    },
    {
     "name": "stderr",
     "output_type": "stream",
     "text": [
      "/Users/dongja/opt/anaconda3/lib/python3.7/site-packages/sklearn/neural_network/_multilayer_perceptron.py:617: ConvergenceWarning: Stochastic Optimizer: Maximum iterations (200) reached and the optimization hasn't converged yet.\n",
      "  % self.max_iter, ConvergenceWarning)\n",
      "/Users/dongja/opt/anaconda3/lib/python3.7/site-packages/sklearn/neural_network/_multilayer_perceptron.py:617: ConvergenceWarning: Stochastic Optimizer: Maximum iterations (200) reached and the optimization hasn't converged yet.\n",
      "  % self.max_iter, ConvergenceWarning)\n",
      "/Users/dongja/opt/anaconda3/lib/python3.7/site-packages/sklearn/neural_network/_multilayer_perceptron.py:617: ConvergenceWarning: Stochastic Optimizer: Maximum iterations (200) reached and the optimization hasn't converged yet.\n",
      "  % self.max_iter, ConvergenceWarning)\n",
      "/Users/dongja/opt/anaconda3/lib/python3.7/site-packages/sklearn/neural_network/_multilayer_perceptron.py:617: ConvergenceWarning: Stochastic Optimizer: Maximum iterations (300) reached and the optimization hasn't converged yet.\n",
      "  % self.max_iter, ConvergenceWarning)\n",
      "/Users/dongja/opt/anaconda3/lib/python3.7/site-packages/sklearn/neural_network/_multilayer_perceptron.py:617: ConvergenceWarning: Stochastic Optimizer: Maximum iterations (300) reached and the optimization hasn't converged yet.\n",
      "  % self.max_iter, ConvergenceWarning)\n",
      "/Users/dongja/opt/anaconda3/lib/python3.7/site-packages/sklearn/neural_network/_multilayer_perceptron.py:617: ConvergenceWarning: Stochastic Optimizer: Maximum iterations (300) reached and the optimization hasn't converged yet.\n",
      "  % self.max_iter, ConvergenceWarning)\n",
      "/Users/dongja/opt/anaconda3/lib/python3.7/site-packages/sklearn/neural_network/_multilayer_perceptron.py:617: ConvergenceWarning: Stochastic Optimizer: Maximum iterations (300) reached and the optimization hasn't converged yet.\n",
      "  % self.max_iter, ConvergenceWarning)\n",
      "/Users/dongja/opt/anaconda3/lib/python3.7/site-packages/sklearn/neural_network/_multilayer_perceptron.py:617: ConvergenceWarning: Stochastic Optimizer: Maximum iterations (100) reached and the optimization hasn't converged yet.\n",
      "  % self.max_iter, ConvergenceWarning)\n",
      "/Users/dongja/opt/anaconda3/lib/python3.7/site-packages/sklearn/neural_network/_multilayer_perceptron.py:617: ConvergenceWarning: Stochastic Optimizer: Maximum iterations (100) reached and the optimization hasn't converged yet.\n",
      "  % self.max_iter, ConvergenceWarning)\n",
      "/Users/dongja/opt/anaconda3/lib/python3.7/site-packages/sklearn/neural_network/_multilayer_perceptron.py:617: ConvergenceWarning: Stochastic Optimizer: Maximum iterations (100) reached and the optimization hasn't converged yet.\n",
      "  % self.max_iter, ConvergenceWarning)\n",
      "/Users/dongja/opt/anaconda3/lib/python3.7/site-packages/sklearn/neural_network/_multilayer_perceptron.py:617: ConvergenceWarning: Stochastic Optimizer: Maximum iterations (100) reached and the optimization hasn't converged yet.\n",
      "  % self.max_iter, ConvergenceWarning)\n",
      "/Users/dongja/opt/anaconda3/lib/python3.7/site-packages/sklearn/neural_network/_multilayer_perceptron.py:617: ConvergenceWarning: Stochastic Optimizer: Maximum iterations (100) reached and the optimization hasn't converged yet.\n",
      "  % self.max_iter, ConvergenceWarning)\n",
      "/Users/dongja/opt/anaconda3/lib/python3.7/site-packages/sklearn/neural_network/_multilayer_perceptron.py:617: ConvergenceWarning: Stochastic Optimizer: Maximum iterations (200) reached and the optimization hasn't converged yet.\n",
      "  % self.max_iter, ConvergenceWarning)\n",
      "/Users/dongja/opt/anaconda3/lib/python3.7/site-packages/sklearn/neural_network/_multilayer_perceptron.py:617: ConvergenceWarning: Stochastic Optimizer: Maximum iterations (200) reached and the optimization hasn't converged yet.\n",
      "  % self.max_iter, ConvergenceWarning)\n",
      "/Users/dongja/opt/anaconda3/lib/python3.7/site-packages/sklearn/neural_network/_multilayer_perceptron.py:617: ConvergenceWarning: Stochastic Optimizer: Maximum iterations (200) reached and the optimization hasn't converged yet.\n",
      "  % self.max_iter, ConvergenceWarning)\n",
      "/Users/dongja/opt/anaconda3/lib/python3.7/site-packages/sklearn/neural_network/_multilayer_perceptron.py:617: ConvergenceWarning: Stochastic Optimizer: Maximum iterations (200) reached and the optimization hasn't converged yet.\n",
      "  % self.max_iter, ConvergenceWarning)\n",
      "/Users/dongja/opt/anaconda3/lib/python3.7/site-packages/sklearn/neural_network/_multilayer_perceptron.py:617: ConvergenceWarning: Stochastic Optimizer: Maximum iterations (200) reached and the optimization hasn't converged yet.\n",
      "  % self.max_iter, ConvergenceWarning)\n",
      "/Users/dongja/opt/anaconda3/lib/python3.7/site-packages/sklearn/neural_network/_multilayer_perceptron.py:617: ConvergenceWarning: Stochastic Optimizer: Maximum iterations (300) reached and the optimization hasn't converged yet.\n",
      "  % self.max_iter, ConvergenceWarning)\n",
      "/Users/dongja/opt/anaconda3/lib/python3.7/site-packages/sklearn/neural_network/_multilayer_perceptron.py:617: ConvergenceWarning: Stochastic Optimizer: Maximum iterations (300) reached and the optimization hasn't converged yet.\n",
      "  % self.max_iter, ConvergenceWarning)\n",
      "/Users/dongja/opt/anaconda3/lib/python3.7/site-packages/sklearn/neural_network/_multilayer_perceptron.py:617: ConvergenceWarning: Stochastic Optimizer: Maximum iterations (300) reached and the optimization hasn't converged yet.\n",
      "  % self.max_iter, ConvergenceWarning)\n",
      "/Users/dongja/opt/anaconda3/lib/python3.7/site-packages/sklearn/neural_network/_multilayer_perceptron.py:617: ConvergenceWarning: Stochastic Optimizer: Maximum iterations (300) reached and the optimization hasn't converged yet.\n",
      "  % self.max_iter, ConvergenceWarning)\n",
      "/Users/dongja/opt/anaconda3/lib/python3.7/site-packages/sklearn/neural_network/_multilayer_perceptron.py:617: ConvergenceWarning: Stochastic Optimizer: Maximum iterations (300) reached and the optimization hasn't converged yet.\n",
      "  % self.max_iter, ConvergenceWarning)\n"
     ]
    },
    {
     "data": {
      "text/plain": [
       "GridSearchCV(estimator=Pipeline(steps=[('std', StandardScaler()),\n",
       "                                       ('mlp',\n",
       "                                        MLPClassifier(hidden_layer_sizes=(100,\n",
       "                                                                          50),\n",
       "                                                      max_iter=300))]),\n",
       "             param_grid={'mlp__alpha': [0.001, 0.01, 0.1, 0.3, 0.5, 1.0],\n",
       "                         'mlp__max_iter': [100, 200, 300]},\n",
       "             scoring='accuracy', verbose=1)"
      ]
     },
     "execution_count": 24,
     "metadata": {},
     "output_type": "execute_result"
    }
   ],
   "source": [
    "grid_nn.fit(x_train, y_train)"
   ]
  },
  {
   "cell_type": "code",
   "execution_count": 26,
   "id": "confused-plaza",
   "metadata": {},
   "outputs": [
    {
     "data": {
      "text/plain": [
       "{'mlp__alpha': 0.3, 'mlp__max_iter': 300}"
      ]
     },
     "execution_count": 26,
     "metadata": {},
     "output_type": "execute_result"
    }
   ],
   "source": [
    "grid_nn.best_params_"
   ]
  },
  {
   "cell_type": "code",
   "execution_count": 27,
   "id": "handmade-allowance",
   "metadata": {},
   "outputs": [
    {
     "data": {
      "text/plain": [
       "0.9818984707704219"
      ]
     },
     "execution_count": 27,
     "metadata": {},
     "output_type": "execute_result"
    }
   ],
   "source": [
    "grid_nn.best_score_"
   ]
  },
  {
   "cell_type": "code",
   "execution_count": 28,
   "id": "deluxe-joshua",
   "metadata": {},
   "outputs": [
    {
     "data": {
      "text/plain": [
       "{'memory': None,\n",
       " 'steps': [('std', StandardScaler()),\n",
       "  ('mlp',\n",
       "   MLPClassifier(alpha=0.3, hidden_layer_sizes=(100, 50), max_iter=300))],\n",
       " 'verbose': False,\n",
       " 'std': StandardScaler(),\n",
       " 'mlp': MLPClassifier(alpha=0.3, hidden_layer_sizes=(100, 50), max_iter=300),\n",
       " 'std__copy': True,\n",
       " 'std__with_mean': True,\n",
       " 'std__with_std': True,\n",
       " 'mlp__activation': 'relu',\n",
       " 'mlp__alpha': 0.3,\n",
       " 'mlp__batch_size': 'auto',\n",
       " 'mlp__beta_1': 0.9,\n",
       " 'mlp__beta_2': 0.999,\n",
       " 'mlp__early_stopping': False,\n",
       " 'mlp__epsilon': 1e-08,\n",
       " 'mlp__hidden_layer_sizes': (100, 50),\n",
       " 'mlp__learning_rate': 'constant',\n",
       " 'mlp__learning_rate_init': 0.001,\n",
       " 'mlp__max_fun': 15000,\n",
       " 'mlp__max_iter': 300,\n",
       " 'mlp__momentum': 0.9,\n",
       " 'mlp__n_iter_no_change': 10,\n",
       " 'mlp__nesterovs_momentum': True,\n",
       " 'mlp__power_t': 0.5,\n",
       " 'mlp__random_state': None,\n",
       " 'mlp__shuffle': True,\n",
       " 'mlp__solver': 'adam',\n",
       " 'mlp__tol': 0.0001,\n",
       " 'mlp__validation_fraction': 0.1,\n",
       " 'mlp__verbose': False,\n",
       " 'mlp__warm_start': False}"
      ]
     },
     "execution_count": 28,
     "metadata": {},
     "output_type": "execute_result"
    }
   ],
   "source": [
    "grid_nn.best_estimator_.get_params()"
   ]
  },
  {
   "cell_type": "code",
   "execution_count": 31,
   "id": "mature-employer",
   "metadata": {},
   "outputs": [],
   "source": [
    "# 예측\n",
    "y_train_pred = grid_nn.predict(x_train)\n",
    "y_test_pred = grid_nn.predict(x_test)"
   ]
  },
  {
   "cell_type": "code",
   "execution_count": 34,
   "id": "sonic-vegetarian",
   "metadata": {},
   "outputs": [
    {
     "name": "stdout",
     "output_type": "stream",
     "text": [
      "              precision    recall  f1-score   support\n",
      "\n",
      "           0       1.00      1.00      1.00       142\n",
      "           1       1.00      1.00      1.00       146\n",
      "           2       1.00      1.00      1.00       142\n",
      "           3       1.00      1.00      1.00       146\n",
      "           4       1.00      1.00      1.00       145\n",
      "           5       1.00      1.00      1.00       145\n",
      "           6       1.00      1.00      1.00       145\n",
      "           7       1.00      1.00      1.00       143\n",
      "           8       1.00      1.00      1.00       139\n",
      "           9       1.00      1.00      1.00       144\n",
      "\n",
      "    accuracy                           1.00      1437\n",
      "   macro avg       1.00      1.00      1.00      1437\n",
      "weighted avg       1.00      1.00      1.00      1437\n",
      "\n"
     ]
    }
   ],
   "source": [
    "# train score\n",
    "print(classification_report(y_train, y_train_pred))"
   ]
  },
  {
   "cell_type": "code",
   "execution_count": 36,
   "id": "confused-prague",
   "metadata": {},
   "outputs": [
    {
     "name": "stdout",
     "output_type": "stream",
     "text": [
      "              precision    recall  f1-score   support\n",
      "\n",
      "           0       1.00      1.00      1.00        36\n",
      "           1       0.92      0.97      0.95        36\n",
      "           2       1.00      1.00      1.00        35\n",
      "           3       0.97      1.00      0.99        37\n",
      "           4       1.00      0.97      0.99        36\n",
      "           5       0.97      1.00      0.99        37\n",
      "           6       1.00      0.97      0.99        36\n",
      "           7       1.00      1.00      1.00        36\n",
      "           8       0.94      0.94      0.94        35\n",
      "           9       1.00      0.94      0.97        36\n",
      "\n",
      "    accuracy                           0.98       360\n",
      "   macro avg       0.98      0.98      0.98       360\n",
      "weighted avg       0.98      0.98      0.98       360\n",
      "\n"
     ]
    }
   ],
   "source": [
    "# test score\n",
    "print(classification_report(y_test, y_test_pred))"
   ]
  },
  {
   "cell_type": "code",
   "execution_count": 37,
   "id": "human-intake",
   "metadata": {},
   "outputs": [
    {
     "data": {
      "text/html": [
       "<div>\n",
       "<style scoped>\n",
       "    .dataframe tbody tr th:only-of-type {\n",
       "        vertical-align: middle;\n",
       "    }\n",
       "\n",
       "    .dataframe tbody tr th {\n",
       "        vertical-align: top;\n",
       "    }\n",
       "\n",
       "    .dataframe thead th {\n",
       "        text-align: right;\n",
       "    }\n",
       "</style>\n",
       "<table border=\"1\" class=\"dataframe\">\n",
       "  <thead>\n",
       "    <tr style=\"text-align: right;\">\n",
       "      <th>Predicted</th>\n",
       "      <th>0</th>\n",
       "      <th>1</th>\n",
       "      <th>2</th>\n",
       "      <th>3</th>\n",
       "      <th>4</th>\n",
       "      <th>5</th>\n",
       "      <th>6</th>\n",
       "      <th>7</th>\n",
       "      <th>8</th>\n",
       "      <th>9</th>\n",
       "    </tr>\n",
       "    <tr>\n",
       "      <th>Actual</th>\n",
       "      <th></th>\n",
       "      <th></th>\n",
       "      <th></th>\n",
       "      <th></th>\n",
       "      <th></th>\n",
       "      <th></th>\n",
       "      <th></th>\n",
       "      <th></th>\n",
       "      <th></th>\n",
       "      <th></th>\n",
       "    </tr>\n",
       "  </thead>\n",
       "  <tbody>\n",
       "    <tr>\n",
       "      <th>0</th>\n",
       "      <td>36</td>\n",
       "      <td>0</td>\n",
       "      <td>0</td>\n",
       "      <td>0</td>\n",
       "      <td>0</td>\n",
       "      <td>0</td>\n",
       "      <td>0</td>\n",
       "      <td>0</td>\n",
       "      <td>0</td>\n",
       "      <td>0</td>\n",
       "    </tr>\n",
       "    <tr>\n",
       "      <th>1</th>\n",
       "      <td>0</td>\n",
       "      <td>35</td>\n",
       "      <td>0</td>\n",
       "      <td>0</td>\n",
       "      <td>0</td>\n",
       "      <td>0</td>\n",
       "      <td>0</td>\n",
       "      <td>0</td>\n",
       "      <td>1</td>\n",
       "      <td>0</td>\n",
       "    </tr>\n",
       "    <tr>\n",
       "      <th>2</th>\n",
       "      <td>0</td>\n",
       "      <td>0</td>\n",
       "      <td>35</td>\n",
       "      <td>0</td>\n",
       "      <td>0</td>\n",
       "      <td>0</td>\n",
       "      <td>0</td>\n",
       "      <td>0</td>\n",
       "      <td>0</td>\n",
       "      <td>0</td>\n",
       "    </tr>\n",
       "    <tr>\n",
       "      <th>3</th>\n",
       "      <td>0</td>\n",
       "      <td>0</td>\n",
       "      <td>0</td>\n",
       "      <td>37</td>\n",
       "      <td>0</td>\n",
       "      <td>0</td>\n",
       "      <td>0</td>\n",
       "      <td>0</td>\n",
       "      <td>0</td>\n",
       "      <td>0</td>\n",
       "    </tr>\n",
       "    <tr>\n",
       "      <th>4</th>\n",
       "      <td>0</td>\n",
       "      <td>0</td>\n",
       "      <td>0</td>\n",
       "      <td>0</td>\n",
       "      <td>35</td>\n",
       "      <td>0</td>\n",
       "      <td>0</td>\n",
       "      <td>0</td>\n",
       "      <td>1</td>\n",
       "      <td>0</td>\n",
       "    </tr>\n",
       "    <tr>\n",
       "      <th>5</th>\n",
       "      <td>0</td>\n",
       "      <td>0</td>\n",
       "      <td>0</td>\n",
       "      <td>0</td>\n",
       "      <td>0</td>\n",
       "      <td>37</td>\n",
       "      <td>0</td>\n",
       "      <td>0</td>\n",
       "      <td>0</td>\n",
       "      <td>0</td>\n",
       "    </tr>\n",
       "    <tr>\n",
       "      <th>6</th>\n",
       "      <td>0</td>\n",
       "      <td>1</td>\n",
       "      <td>0</td>\n",
       "      <td>0</td>\n",
       "      <td>0</td>\n",
       "      <td>0</td>\n",
       "      <td>35</td>\n",
       "      <td>0</td>\n",
       "      <td>0</td>\n",
       "      <td>0</td>\n",
       "    </tr>\n",
       "    <tr>\n",
       "      <th>7</th>\n",
       "      <td>0</td>\n",
       "      <td>0</td>\n",
       "      <td>0</td>\n",
       "      <td>0</td>\n",
       "      <td>0</td>\n",
       "      <td>0</td>\n",
       "      <td>0</td>\n",
       "      <td>36</td>\n",
       "      <td>0</td>\n",
       "      <td>0</td>\n",
       "    </tr>\n",
       "    <tr>\n",
       "      <th>8</th>\n",
       "      <td>0</td>\n",
       "      <td>2</td>\n",
       "      <td>0</td>\n",
       "      <td>0</td>\n",
       "      <td>0</td>\n",
       "      <td>0</td>\n",
       "      <td>0</td>\n",
       "      <td>0</td>\n",
       "      <td>33</td>\n",
       "      <td>0</td>\n",
       "    </tr>\n",
       "    <tr>\n",
       "      <th>9</th>\n",
       "      <td>0</td>\n",
       "      <td>0</td>\n",
       "      <td>0</td>\n",
       "      <td>1</td>\n",
       "      <td>0</td>\n",
       "      <td>1</td>\n",
       "      <td>0</td>\n",
       "      <td>0</td>\n",
       "      <td>0</td>\n",
       "      <td>34</td>\n",
       "    </tr>\n",
       "  </tbody>\n",
       "</table>\n",
       "</div>"
      ],
      "text/plain": [
       "Predicted   0   1   2   3   4   5   6   7   8   9\n",
       "Actual                                           \n",
       "0          36   0   0   0   0   0   0   0   0   0\n",
       "1           0  35   0   0   0   0   0   0   1   0\n",
       "2           0   0  35   0   0   0   0   0   0   0\n",
       "3           0   0   0  37   0   0   0   0   0   0\n",
       "4           0   0   0   0  35   0   0   0   1   0\n",
       "5           0   0   0   0   0  37   0   0   0   0\n",
       "6           0   1   0   0   0   0  35   0   0   0\n",
       "7           0   0   0   0   0   0   0  36   0   0\n",
       "8           0   2   0   0   0   0   0   0  33   0\n",
       "9           0   0   0   1   0   1   0   0   0  34"
      ]
     },
     "execution_count": 37,
     "metadata": {},
     "output_type": "execute_result"
    }
   ],
   "source": [
    "# test confusion matrix\n",
    "pd.crosstab(y_test, y_test_pred, rownames=['Actual'], colnames=['Predicted'])"
   ]
  },
  {
   "cell_type": "markdown",
   "id": "alert-binding",
   "metadata": {},
   "source": [
    "트레인 데이터에 대해 100%의 정확도를 보였고 테스트 데이터에 대해 98%의 매우 높은 정확도를 보였다"
   ]
  }
 ],
 "metadata": {
  "kernelspec": {
   "display_name": "Python 3",
   "language": "python",
   "name": "python3"
  },
  "language_info": {
   "codemirror_mode": {
    "name": "ipython",
    "version": 3
   },
   "file_extension": ".py",
   "mimetype": "text/x-python",
   "name": "python",
   "nbconvert_exporter": "python",
   "pygments_lexer": "ipython3",
   "version": "3.7.6"
  }
 },
 "nbformat": 4,
 "nbformat_minor": 5
}
